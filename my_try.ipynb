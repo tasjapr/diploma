{
  "nbformat": 4,
  "nbformat_minor": 0,
  "metadata": {
    "colab": {
      "name": "my_try",
      "version": "0.3.2",
      "provenance": [],
      "private_outputs": true,
      "collapsed_sections": [],
      "toc_visible": true,
      "include_colab_link": true
    },
    "kernelspec": {
      "name": "python3",
      "display_name": "Python 3"
    },
    "accelerator": "GPU"
  },
  "cells": [
    {
      "cell_type": "markdown",
      "metadata": {
        "id": "view-in-github",
        "colab_type": "text"
      },
      "source": [
        "<a href=\"https://colab.research.google.com/github/tasjapr/diploma/blob/master/my_try.ipynb\" target=\"_parent\"><img src=\"https://colab.research.google.com/assets/colab-badge.svg\" alt=\"Open In Colab\"/></a>"
      ]
    },
    {
      "cell_type": "markdown",
      "metadata": {
        "id": "RBz75XU51T8b",
        "colab_type": "text"
      },
      "source": [
        "# Preset"
      ]
    },
    {
      "cell_type": "code",
      "metadata": {
        "id": "PLqrm1159xHt",
        "colab_type": "code",
        "colab": {}
      },
      "source": [
        "!rm -r /content/sample_data/"
      ],
      "execution_count": 0,
      "outputs": []
    },
    {
      "cell_type": "code",
      "metadata": {
        "id": "rM4pzglA1IoH",
        "colab_type": "code",
        "colab": {}
      },
      "source": [
        "#check GPU\n",
        "\n",
        "import tensorflow as tf\n",
        "device_name = tf.test.gpu_device_name()\n",
        "if device_name != '/device:GPU:0':\n",
        "  raise SystemError('GPU device not found')\n",
        "print('Found GPU at: {}'.format(device_name))"
      ],
      "execution_count": 0,
      "outputs": []
    },
    {
      "cell_type": "code",
      "metadata": {
        "id": "8WjZMzlEX0jA",
        "colab_type": "code",
        "colab": {}
      },
      "source": [
        "import os\n",
        "os.chdir('/content/')\n",
        "\n",
        "!git clone https://github.com/tensorflow/models.git"
      ],
      "execution_count": 0,
      "outputs": []
    },
    {
      "cell_type": "code",
      "metadata": {
        "id": "x_jdm-3_1gjN",
        "colab_type": "code",
        "colab": {}
      },
      "source": [
        "#connect to google drive\n",
        "\n",
        "from google.colab import drive\n",
        "drive.mount('/content/drive')"
      ],
      "execution_count": 0,
      "outputs": []
    },
    {
      "cell_type": "code",
      "metadata": {
        "id": "Rlz8zKLKScEG",
        "colab_type": "code",
        "colab": {}
      },
      "source": [
        "# copy necessary files from google drive\n",
        "\n",
        "# !rm -r /content/files/*\n",
        "!cp -r /content/drive/My\\ Drive/Colab\\ Notebooks/files/ /content/"
      ],
      "execution_count": 0,
      "outputs": []
    },
    {
      "cell_type": "code",
      "metadata": {
        "id": "fnTkYu0tuFuf",
        "colab_type": "code",
        "colab": {}
      },
      "source": [
        "os.chdir('/content/models/')\n",
        "!export PYTHONPATH=$PYTHONPATH:`pwd`:`pwd`/slim\n",
        "    \n",
        "os.chdir('research/')\n",
        "\n",
        "!protoc object_detection/protos/*.proto --python_out=."
      ],
      "execution_count": 0,
      "outputs": []
    },
    {
      "cell_type": "markdown",
      "metadata": {
        "id": "PyNjajerWJdP",
        "colab_type": "text"
      },
      "source": [
        "# Crop and align "
      ]
    },
    {
      "cell_type": "code",
      "metadata": {
        "id": "P9VkEszxWM3O",
        "colab_type": "code",
        "colab": {}
      },
      "source": [
        "!apt install findutils\n",
        "!apt install coreutils"
      ],
      "execution_count": 0,
      "outputs": []
    },
    {
      "cell_type": "code",
      "metadata": {
        "id": "x7y0pDQOXV08",
        "colab_type": "code",
        "colab": {}
      },
      "source": [
        "os.chdir('/content/')\n",
        "!git clone https://github.com/cmusatyalab/openface.git"
      ],
      "execution_count": 0,
      "outputs": []
    },
    {
      "cell_type": "code",
      "metadata": {
        "id": "iDyDiEhBhckI",
        "colab_type": "code",
        "colab": {}
      },
      "source": [
        "os.chdir('/content/openface/')\n",
        "\n",
        "!python2 setup.py install"
      ],
      "execution_count": 0,
      "outputs": []
    },
    {
      "cell_type": "code",
      "metadata": {
        "id": "ql6oWdUvXbds",
        "colab_type": "code",
        "colab": {}
      },
      "source": [
        "os.chdir('/content/openface/models/')\n",
        "\n",
        "!./get-models.sh\n",
        "!mkdir ../training-images"
      ],
      "execution_count": 0,
      "outputs": []
    },
    {
      "cell_type": "code",
      "metadata": {
        "id": "66Rg-7Ith3Uu",
        "colab_type": "code",
        "colab": {}
      },
      "source": [
        "\n",
        "!cp -r /content/files/images/* /content/openface/training-images/\n",
        "!cp -r /content/files/test_images/ /content/openface/training-images/"
      ],
      "execution_count": 0,
      "outputs": []
    },
    {
      "cell_type": "code",
      "metadata": {
        "id": "eiuhHk8SXeZu",
        "colab_type": "code",
        "colab": {}
      },
      "source": [
        "import os\n",
        "os.chdir('/content/openface/')\n",
        "\n",
        "# !./util/align-dlib.py ./training-images/ align outerEyesAndNose ./aligned-images/ --size 96\n",
        "!./util/align-dlib.py ./training-images/ align outerEyesAndNose ./aligned-images/ --size 96"
      ],
      "execution_count": 0,
      "outputs": []
    },
    {
      "cell_type": "markdown",
      "metadata": {
        "id": "28Gd25aq1mIS",
        "colab_type": "text"
      },
      "source": [
        "#TensorFlow object detection API install\n",
        "\n",
        "https://colab.research.google.com/drive/1dU0bKSzYt8mz83lsI09tMhn-A7w1Y9MY#scrollTo=CWuJDoKJHMSs&forceEdit=true&offline=true&sandboxMode=true"
      ]
    },
    {
      "cell_type": "code",
      "metadata": {
        "id": "_VV-psPd2Fsz",
        "colab_type": "code",
        "colab": {}
      },
      "source": [
        "import tensorflow as tf\n",
        "import timeit\n",
        "\n",
        "# See https://www.tensorflow.org/tutorials/using_gpu#allowing_gpu_memory_growth\n",
        "config = tf.ConfigProto()\n",
        "config.gpu_options.allow_growth = True\n",
        "\n",
        "with tf.device('/cpu:0'):\n",
        "  random_image_cpu = tf.random_normal((100, 100, 100, 3))\n",
        "  net_cpu = tf.layers.conv2d(random_image_cpu, 32, 7)\n",
        "  net_cpu = tf.reduce_sum(net_cpu)\n",
        "\n",
        "with tf.device('/gpu:0'):\n",
        "  random_image_gpu = tf.random_normal((100, 100, 100, 3))\n",
        "  net_gpu = tf.layers.conv2d(random_image_gpu, 32, 7)\n",
        "  net_gpu = tf.reduce_sum(net_gpu)\n",
        "\n",
        "sess = tf.Session(config=config)\n",
        "\n",
        "# Test execution once to detect errors early.\n",
        "try:\n",
        "  sess.run(tf.global_variables_initializer())\n",
        "except tf.errors.InvalidArgumentError:\n",
        "  print(\n",
        "      '\\n\\nThis error most likely means that this notebook is not '\n",
        "      'configured to use a GPU.  Change this in Notebook Settings via the '\n",
        "      'command palette (cmd/ctrl-shift-P) or the Edit menu.\\n\\n')\n",
        "  raise\n",
        "\n",
        "def cpu():\n",
        "  sess.run(net_cpu)\n",
        "  \n",
        "def gpu():\n",
        "  sess.run(net_gpu)\n",
        "  \n",
        "# Runs the op several times.\n",
        "print('Time (s) to convolve 32x7x7x3 filter over random 100x100x100x3 images '\n",
        "      '(batch x height x width x channel). Sum of ten runs.')\n",
        "print('CPU (s):')\n",
        "cpu_time = timeit.timeit('cpu()', number=10, setup=\"from __main__ import cpu\")\n",
        "print(cpu_time)\n",
        "print('GPU (s):')\n",
        "gpu_time = timeit.timeit('gpu()', number=10, setup=\"from __main__ import gpu\")\n",
        "print(gpu_time)\n",
        "print('GPU speedup over CPU: {}x'.format(int(cpu_time/gpu_time)))\n",
        "\n",
        "sess.close()"
      ],
      "execution_count": 0,
      "outputs": []
    },
    {
      "cell_type": "code",
      "metadata": {
        "id": "wqTp2Toj2F45",
        "colab_type": "code",
        "colab": {}
      },
      "source": [
        "!git clone https://github.com/cocodataset/cocoapi.git\n",
        "!cd cocoapi/PythonAPI; make; cp -r pycocotools /content/models/research/"
      ],
      "execution_count": 0,
      "outputs": []
    },
    {
      "cell_type": "code",
      "metadata": {
        "id": "u3rr6QoDB0lN",
        "colab_type": "code",
        "colab": {}
      },
      "source": [
        "import os\n",
        "os.chdir('/content/models/research')\n",
        "\n",
        "%set_env PYTHONPATH=/content/models/research:/content/models/research/slim\n",
        "!protoc object_detection/protos/*.proto --python_out=.\n",
        "# !pip install 'prompt-toolkit==1.0.15'"
      ],
      "execution_count": 0,
      "outputs": []
    },
    {
      "cell_type": "code",
      "metadata": {
        "id": "lTcMCQM82F9e",
        "colab_type": "code",
        "colab": {}
      },
      "source": [
        "# check installation\n",
        "\n",
        "!python object_detection/builders/model_builder_test.py"
      ],
      "execution_count": 0,
      "outputs": []
    },
    {
      "cell_type": "markdown",
      "metadata": {
        "id": "QhuXAsDB19aZ",
        "colab_type": "text"
      },
      "source": [
        "# generate tf_record and csv file"
      ]
    },
    {
      "cell_type": "code",
      "metadata": {
        "id": "BkSwFdYcslfj",
        "colab_type": "code",
        "colab": {}
      },
      "source": [
        "# if you want to use aligned images for training\n",
        "\n",
        "# !rm -r /content/files/images/*\n",
        "# !mv /content/openface/aligned-images/* /content/files/images/"
      ],
      "execution_count": 0,
      "outputs": []
    },
    {
      "cell_type": "code",
      "metadata": {
        "id": "VoeLyQHnp6VW",
        "colab_type": "code",
        "colab": {}
      },
      "source": [
        "#create xml file for each image\n",
        "\n",
        "# os.chdir('/content/files/')\n",
        "# !python3 create_xml.py"
      ],
      "execution_count": 0,
      "outputs": []
    },
    {
      "cell_type": "code",
      "metadata": {
        "id": "yDvmpthrKIOz",
        "colab_type": "code",
        "colab": {}
      },
      "source": [
        "os.chdir('/content/files/')\n",
        "!python3 xml_to_csv.py"
      ],
      "execution_count": 0,
      "outputs": []
    },
    {
      "cell_type": "code",
      "metadata": {
        "id": "uO59o5mbtLt-",
        "colab_type": "code",
        "colab": {}
      },
      "source": [
        "!python3 generate_tfrecord.py --csv_input=/content/files/data/train_labels.csv --output_path=/content/files/data/train.record --image_dir=/content/files/images/train/\n",
        "!python3 generate_tfrecord.py --csv_input=/content/files/data/test_labels.csv --output_path=/content/files/data/test.record --image_dir=/content/files/images/test/"
      ],
      "execution_count": 0,
      "outputs": []
    },
    {
      "cell_type": "markdown",
      "metadata": {
        "id": "pf8d0cMVJwXv",
        "colab_type": "text"
      },
      "source": [
        "# Get last checkpoint"
      ]
    },
    {
      "cell_type": "code",
      "metadata": {
        "id": "tpDR8Vf0J3M_",
        "colab_type": "code",
        "colab": {}
      },
      "source": [
        "!mkdir /content/models/research/object_detection/training/\n",
        "\n",
        "os.chdir('/content/files/')\n",
        "import zipfile, os\n",
        "print (\"Uncompressing zip file\")\n",
        "zip_ref = zipfile.ZipFile('training.zip', 'r')\n",
        "zip_ref.extractall('/content/models/research/object_detection/training/')\n",
        "zip_ref.close()"
      ],
      "execution_count": 0,
      "outputs": []
    },
    {
      "cell_type": "code",
      "metadata": {
        "id": "kwgmaZftKm-V",
        "colab_type": "code",
        "colab": {}
      },
      "source": [
        "!mv /content/models/research/object_detection/training/content/models/research/object_detection/training/* /content/models/research/object_detection/training/\n",
        "!rm -r /content/models/research/object_detection/training/content/"
      ],
      "execution_count": 0,
      "outputs": []
    },
    {
      "cell_type": "markdown",
      "metadata": {
        "id": "0rncTtkFwPWo",
        "colab_type": "text"
      },
      "source": [
        "# Training model"
      ]
    },
    {
      "cell_type": "code",
      "metadata": {
        "id": "MuzGS4_Nzucg",
        "colab_type": "code",
        "colab": {}
      },
      "source": [
        "#for change .config file\n",
        "\n",
        "# !mv /content/ssd_mobilenet_v2_coco.config /content/files/\n",
        "# !cp /content/files/ssd_mobilenet_v2_coco.config /content/models/research/object_detection/training/"
      ],
      "execution_count": 0,
      "outputs": []
    },
    {
      "cell_type": "code",
      "metadata": {
        "id": "j_U-iYr4-2e3",
        "colab_type": "code",
        "colab": {}
      },
      "source": [
        "os.chdir('/content/models/research/object_detection/')\n",
        "\n",
        "!mkdir training"
      ],
      "execution_count": 0,
      "outputs": []
    },
    {
      "cell_type": "code",
      "metadata": {
        "id": "Byedtr8JwTYg",
        "colab_type": "code",
        "colab": {}
      },
      "source": [
        "!cp -r /content/files/data/ /content/models/research/object_detection/\n",
        "!cp -r /content/files/images/ /content/models/research/object_detection/\n",
        "!cp -r /content/files/ssd_mobilenet_v2_coco.config /content/models/research/object_detection/training/"
      ],
      "execution_count": 0,
      "outputs": []
    },
    {
      "cell_type": "code",
      "metadata": {
        "id": "iBnS3dxa1dXQ",
        "colab_type": "code",
        "colab": {}
      },
      "source": [
        "import os\n",
        "os.chdir('/content/models/research/object_detection/legacy/')\n",
        "\n",
        "!python3 train.py --logtostderr \\\n",
        "                  --train_dir=../training/ --pipeline_config_path=../training/ssd_mobilenet_v2_coco.config"
      ],
      "execution_count": 0,
      "outputs": []
    },
    {
      "cell_type": "code",
      "metadata": {
        "id": "mDJ6aiHRhE5E",
        "colab_type": "code",
        "colab": {}
      },
      "source": [
        "# create zip file with all of training`s data\n",
        "\n",
        "!zip -r /content/training.zip /content/models/research/object_detection/training/"
      ],
      "execution_count": 0,
      "outputs": []
    },
    {
      "cell_type": "code",
      "metadata": {
        "id": "4sYuPDM4IhHh",
        "colab_type": "code",
        "colab": {}
      },
      "source": [
        "# create zip file with all of end data\n",
        "\n",
        "!zip -r /content/emotion_graph.zip /content/models/research/object_detection/emotions_graph/"
      ],
      "execution_count": 0,
      "outputs": []
    },
    {
      "cell_type": "markdown",
      "metadata": {
        "id": "Ttdenqu2z7Rt",
        "colab_type": "text"
      },
      "source": [
        "# Model evaluation"
      ]
    },
    {
      "cell_type": "markdown",
      "metadata": {
        "id": "CbGpQ6k24rj0",
        "colab_type": "text"
      },
      "source": [
        " **Before this block** you must to change some params in \n",
        "\n",
        "> *object_detection_evaluation.py: *\n",
        "\n",
        "\n",
        "\n",
        "Replace all `unicode` function with String `str` function\n",
        "\n",
        "\n",
        "\n",
        "---\n",
        "\n",
        "*ssdlite_mobilenet_v2_coco.config:*\n",
        "\n",
        "```\n",
        "eval_config: {\n",
        "        #num of test images.Previously It was 8000? change to your number of test images\n",
        "        num_examples: 7\n",
        "        # Note: The below line limits the evaluation process to 10 evaluations.\n",
        "        # Remove the below line to evaluate indefinitely.\n",
        "        max_evals: 10\n",
        "      }\n",
        "```\n",
        "\n"
      ]
    },
    {
      "cell_type": "code",
      "metadata": {
        "id": "JeVg8rJc1hQs",
        "colab_type": "code",
        "colab": {}
      },
      "source": [
        "!cp /content/drive/My\\ Drive/Colab\\ Notebooks/files/object_detection_evaluation.py /content/models/research/object_detection/utils/"
      ],
      "execution_count": 0,
      "outputs": []
    },
    {
      "cell_type": "code",
      "metadata": {
        "id": "7Ube6R0o1jzy",
        "colab_type": "code",
        "colab": {}
      },
      "source": [
        "!cp /content/drive/My\\ Drive/Colab\\ Notebooks/files/ssdlite_mobilenet_v2_coco.config /content/models/research/object_detection/training/"
      ],
      "execution_count": 0,
      "outputs": []
    },
    {
      "cell_type": "code",
      "metadata": {
        "id": "lhvY7J960IHJ",
        "colab_type": "code",
        "colab": {}
      },
      "source": [
        "import  os\n",
        "os.chdir('/content/models/research/object_detection/legacy/')\n",
        "\n",
        "!python3 eval.py \\\n",
        "    --logtostderr \\\n",
        "    --pipeline_config_path=../training/ssdlite_mobilenet_v2_coco.config \\\n",
        "    --checkpoint_dir=../training/ \\\n",
        "    --eval_dir=eval/"
      ],
      "execution_count": 0,
      "outputs": []
    },
    {
      "cell_type": "code",
      "metadata": {
        "id": "lvo8f-qb1lxT",
        "colab_type": "code",
        "colab": {}
      },
      "source": [
        "# !rm -r /content/models/research/object_detection/legacy/eval/"
      ],
      "execution_count": 0,
      "outputs": []
    },
    {
      "cell_type": "code",
      "metadata": {
        "id": "kNW3V-zE1nZ-",
        "colab_type": "code",
        "colab": {}
      },
      "source": [
        "# !mv /content/anger.png /content/files/images/test/\n",
        "# !mv /content/anger.xml /content/files/images/test/\n",
        "# !mv /content/dis.png /content/files/images/test/\n",
        "# !mv /content/dis.xml /content/files/images/test/\n",
        "# !mv /content/surprise.png /content/files/images/test/\n",
        "# !mv /content/surprise.xml /content/files/images/test/"
      ],
      "execution_count": 0,
      "outputs": []
    },
    {
      "cell_type": "markdown",
      "metadata": {
        "id": "EDwWE_DLLQxZ",
        "colab_type": "text"
      },
      "source": [
        "# Visualizing results"
      ]
    },
    {
      "cell_type": "code",
      "metadata": {
        "id": "_eXLZc5m9ywh",
        "colab_type": "code",
        "colab": {}
      },
      "source": [
        "!mkdir /content/models/research/object_detection/test_images/\n",
        "\n",
        "# !cp -r /content/openface/aligned-images/* /content/models/research/object_detection/test_images/\n",
        "!cp -r /content/files/test_images_cr/* /content/models/research/object_detection/test_images/"
      ],
      "execution_count": 0,
      "outputs": []
    },
    {
      "cell_type": "code",
      "metadata": {
        "id": "Ucf01cZOzs2u",
        "colab_type": "code",
        "colab": {}
      },
      "source": [
        "#If you have final ckpt - upload ckpt files and press 'run cell'\n",
        "\n",
        "# !mv /content/model.ckpt-7000.index /content/models/research/object_detection/training/\n",
        "# !mv /content/model.ckpt-7000.meta /content/models/research/object_detection/training/"
      ],
      "execution_count": 0,
      "outputs": []
    },
    {
      "cell_type": "code",
      "metadata": {
        "id": "N5bRJO23-0UT",
        "colab_type": "code",
        "colab": {}
      },
      "source": [
        "!mv /content/models/research/object_detection/test_images/image63.jpg /content/models/research/object_detection/test_images/image34.jpg\n",
        "!mv /content/models/research/object_detection/test_images/image65.jpg /content/models/research/object_detection/test_images/image37.jpg\n",
        "!mv /content/models/research/object_detection/test_images/image64.jpg /content/models/research/object_detection/test_images/image38.jpg\n"
      ],
      "execution_count": 0,
      "outputs": []
    },
    {
      "cell_type": "code",
      "metadata": {
        "id": "MCL25Eo3LWoO",
        "colab_type": "code",
        "colab": {}
      },
      "source": [
        "os.chdir('/content/models/research/object_detection/')\n",
        "!python3 export_inference_graph.py \\\n",
        "    --input_type image_tensor \\\n",
        "    --pipeline_config_path training/ssd_mobilenet_v2_coco.config \\\n",
        "    --trained_checkpoint_prefix training/model.ckpt-50000 \\\n",
        "    --output_directory emotions_graph"
      ],
      "execution_count": 0,
      "outputs": []
    },
    {
      "cell_type": "code",
      "metadata": {
        "id": "-Zf6RifILc2b",
        "colab_type": "code",
        "colab": {}
      },
      "source": [
        "import numpy as np\n",
        "import os\n",
        "import six.moves.urllib as urllib\n",
        "import sys\n",
        "import tarfile\n",
        "import tensorflow as tf\n",
        "import zipfile\n",
        "\n",
        "from distutils.version import StrictVersion\n",
        "from collections import defaultdict\n",
        "from io import StringIO\n",
        "import matplotlib.pyplot as plt\n",
        "from PIL import Image\n",
        "\n",
        "# This is needed since the notebook is stored in the object_detection folder.\n",
        "sys.path.append(\"..\")\n",
        "from object_detection.utils import ops as utils_ops\n",
        "\n",
        "if StrictVersion(tf.__version__) < StrictVersion('1.12.0'):\n",
        "  raise ImportError('Please upgrade your TensorFlow installation to v1.12.*.')"
      ],
      "execution_count": 0,
      "outputs": []
    },
    {
      "cell_type": "code",
      "metadata": {
        "id": "V3pFSUwULgoa",
        "colab_type": "code",
        "colab": {}
      },
      "source": [
        "# This is needed to display the images.\n",
        "%matplotlib inline"
      ],
      "execution_count": 0,
      "outputs": []
    },
    {
      "cell_type": "code",
      "metadata": {
        "id": "K-QwO0l-Liy-",
        "colab_type": "code",
        "colab": {}
      },
      "source": [
        "from utils import label_map_util\n",
        "from utils import visualization_utils as vis_util"
      ],
      "execution_count": 0,
      "outputs": []
    },
    {
      "cell_type": "code",
      "metadata": {
        "id": "9pDzgH2SLk15",
        "colab_type": "code",
        "colab": {}
      },
      "source": [
        "# What model to download.\n",
        "MODEL_NAME = 'emotions_graph'\n",
        "\n",
        "# Path to frozen detection graph. This is the actual model that is used for the object detection.\n",
        "PATH_TO_FROZEN_GRAPH = MODEL_NAME + '/frozen_inference_graph.pb'\n",
        "\n",
        "# List of the strings that is used to add correct label for each box.\n",
        "PATH_TO_LABELS = os.path.join('/content/models/research/object_detection/data/', 'object-detection.pbtxt')\n",
        "\n",
        "NUM_CLASSES = 7"
      ],
      "execution_count": 0,
      "outputs": []
    },
    {
      "cell_type": "code",
      "metadata": {
        "id": "totFG4xYLndy",
        "colab_type": "code",
        "colab": {}
      },
      "source": [
        "detection_graph = tf.Graph()\n",
        "with detection_graph.as_default():\n",
        "  od_graph_def = tf.GraphDef()\n",
        "  with tf.gfile.GFile(PATH_TO_FROZEN_GRAPH, 'rb') as fid:\n",
        "    serialized_graph = fid.read()\n",
        "    od_graph_def.ParseFromString(serialized_graph)\n",
        "    tf.import_graph_def(od_graph_def, name='')\n",
        "category_index = label_map_util.create_category_index_from_labelmap(PATH_TO_LABELS, use_display_name=True)"
      ],
      "execution_count": 0,
      "outputs": []
    },
    {
      "cell_type": "code",
      "metadata": {
        "id": "eq6o8nEOLr24",
        "colab_type": "code",
        "colab": {}
      },
      "source": [
        "def load_image_into_numpy_array(image):\n",
        "  (im_width, im_height) = image.size\n",
        "  return np.array(image.getdata()).reshape(\n",
        "      (im_height, im_width, 3)).astype(np.uint8)"
      ],
      "execution_count": 0,
      "outputs": []
    },
    {
      "cell_type": "code",
      "metadata": {
        "id": "G2HzFMC5LuT3",
        "colab_type": "code",
        "colab": {}
      },
      "source": [
        "# For the sake of simplicity we will use only 2 images:\n",
        "# image1.jpg\n",
        "# image2.jpg\n",
        "# If you want to test the code with your images, just add path to the images to the TEST_IMAGE_PATHS.\n",
        "PATH_TO_TEST_IMAGES_DIR = 'test_images'\n",
        "TEST_IMAGE_PATHS = [ os.path.join(PATH_TO_TEST_IMAGES_DIR, 'image{}.png'.format(i)) for i in range(3, 65) ]\n",
        "\n",
        "# Size, in inches, of the output images.\n",
        "IMAGE_SIZE = (10, 6)"
      ],
      "execution_count": 0,
      "outputs": []
    },
    {
      "cell_type": "code",
      "metadata": {
        "id": "2F9LJ3QiM32n",
        "colab_type": "code",
        "colab": {}
      },
      "source": [
        "def run_inference_for_single_image(image, graph):\n",
        "  with graph.as_default():\n",
        "    with tf.Session() as sess:\n",
        "      # Get handles to input and output tensors\n",
        "      ops = tf.get_default_graph().get_operations()\n",
        "      all_tensor_names = {output.name for op in ops for output in op.outputs}\n",
        "      tensor_dict = {}\n",
        "      for key in [\n",
        "          'num_detections', 'detection_boxes', 'detection_scores',\n",
        "          'detection_classes', 'detection_masks'\n",
        "      ]:\n",
        "        tensor_name = key + ':0'\n",
        "        if tensor_name in all_tensor_names:\n",
        "          tensor_dict[key] = tf.get_default_graph().get_tensor_by_name(\n",
        "              tensor_name)\n",
        "      if 'detection_masks' in tensor_dict:\n",
        "        # The following processing is only for single image\n",
        "        detection_boxes = tf.squeeze(tensor_dict['detection_boxes'], [0])\n",
        "        detection_masks = tf.squeeze(tensor_dict['detection_masks'], [0])\n",
        "        # Reframe is required to translate mask from box coordinates to image coordinates and fit the image size.\n",
        "        real_num_detection = tf.cast(tensor_dict['num_detections'][0], tf.int32)\n",
        "        detection_boxes = tf.slice(detection_boxes, [0, 0], [real_num_detection, -1])\n",
        "        detection_masks = tf.slice(detection_masks, [0, 0, 0], [real_num_detection, -1, -1])\n",
        "        detection_masks_reframed = utils_ops.reframe_box_masks_to_image_masks(\n",
        "            detection_masks, detection_boxes, image.shape[0], image.shape[1])\n",
        "        detection_masks_reframed = tf.cast(\n",
        "            tf.greater(detection_masks_reframed, 0.5), tf.uint8)\n",
        "        # Follow the convention by adding back the batch dimension\n",
        "        tensor_dict['detection_masks'] = tf.expand_dims(\n",
        "            detection_masks_reframed, 0)\n",
        "      image_tensor = tf.get_default_graph().get_tensor_by_name('image_tensor:0')\n",
        " # Run inference\n",
        "      output_dict = sess.run(tensor_dict,\n",
        "                             feed_dict={image_tensor: np.expand_dims(image, 0)})\n",
        "\n",
        "      # all outputs are float32 numpy arrays, so convert types as appropriate\n",
        "      output_dict['num_detections'] = int(output_dict['num_detections'][0])\n",
        "      output_dict['detection_classes'] = output_dict[\n",
        "          'detection_classes'][0].astype(np.uint8)\n",
        "      output_dict['detection_boxes'] = output_dict['detection_boxes'][0]\n",
        "      output_dict['detection_scores'] = output_dict['detection_scores'][0]\n",
        "      if 'detection_masks' in output_dict:\n",
        "        output_dict['detection_masks'] = output_dict['detection_masks'][0]\n",
        "  return output_dict"
      ],
      "execution_count": 0,
      "outputs": []
    },
    {
      "cell_type": "code",
      "metadata": {
        "id": "I8rQmc6QM8p1",
        "colab_type": "code",
        "colab": {}
      },
      "source": [
        "for image_path in TEST_IMAGE_PATHS:\n",
        "  image = Image.open(image_path).convert('RGB')\n",
        "  # the array based representation of the image will be used later in order to prepare the\n",
        "  # result image with boxes and labels on it.\n",
        "  image_np = load_image_into_numpy_array(image)\n",
        "  # Expand dimensions since the model expects images to have shape: [1, None, None, 3]\n",
        "  image_np_expanded = np.expand_dims(image_np, axis=0)\n",
        "  # Actual detection.\n",
        "  output_dict = run_inference_for_single_image(image_np, detection_graph)\n",
        "  # Visualization of the results of a detection.\n",
        "  vis_util.visualize_boxes_and_labels_on_image_array(\n",
        "      image_np,\n",
        "      output_dict['detection_boxes'],\n",
        "      output_dict['detection_classes'],\n",
        "      output_dict['detection_scores'],\n",
        "      category_index,\n",
        "      instance_masks=output_dict.get('detection_masks'),\n",
        "      use_normalized_coordinates=False,\n",
        "      line_thickness=1)\n",
        "  plt.figure(figsize=IMAGE_SIZE)\n",
        "  plt.imshow(image_np)"
      ],
      "execution_count": 0,
      "outputs": []
    },
    {
      "cell_type": "markdown",
      "metadata": {
        "id": "BQTh2FYSE7Il",
        "colab_type": "text"
      },
      "source": [
        "# Change model"
      ]
    },
    {
      "cell_type": "code",
      "metadata": {
        "id": "vWAO6CQPE1ib",
        "colab_type": "code",
        "colab": {}
      },
      "source": [
        "# !rm /content/models/research/object_detection/data/ssdlite_mobilenet_v2_coco.config\n",
        "# !rm /content/models/research/object_detection/training/ssdlite_mobilenet_v2_coco.config\n",
        "\n",
        "!mv /content/ssd_mobilenet_v2_coco.config /content/files/data/\n",
        "# now go to 'training model'\n"
      ],
      "execution_count": 0,
      "outputs": []
    },
    {
      "cell_type": "markdown",
      "metadata": {
        "id": "KTQr5CbVM8KZ",
        "colab_type": "text"
      },
      "source": [
        "# TensorBoard"
      ]
    },
    {
      "cell_type": "code",
      "metadata": {
        "id": "6wY5vEuKM_Fi",
        "colab_type": "code",
        "colab": {}
      },
      "source": [
        "!pip install tensorboardcolab\n",
        "\n",
        "from tensorboardcolab import *\n",
        "tbc=TensorBoardColab()"
      ],
      "execution_count": 0,
      "outputs": []
    },
    {
      "cell_type": "code",
      "metadata": {
        "id": "fCedKLtrNK95",
        "colab_type": "code",
        "colab": {}
      },
      "source": [
        "!tensorboard --logdir='/content/models/research/object_detection/training'"
      ],
      "execution_count": 0,
      "outputs": []
    },
    {
      "cell_type": "code",
      "metadata": {
        "id": "GQ0291j9TtXO",
        "colab_type": "code",
        "colab": {}
      },
      "source": [
        "# !pip install -U tensorboardcolab\n",
        "# from tensorboardcolab import *\n",
        "# import shutil\n",
        "\n",
        "# #clean out the directory\n",
        "# shutil.rmtree('./Graph', ignore_errors=True)\n",
        "# os.mkdir('./Graph')\n",
        "\n",
        "# tf.reset_default_graph()\n",
        "\n",
        "# #will start the tunneling and will print out a link:\n",
        "# tbc=TensorBoardColab()\n",
        "\n",
        "# #**here you construct your model**\n",
        "\n",
        "# sess = tf.Session()\n",
        "# output = sess.run(....)\n",
        "# sess.close()\n",
        "\n",
        "# train_writer = tbc.get_writer();\n",
        "# train_writer.add_graph(sess.graph)\n",
        "\n",
        "# train_writer.flush();\n",
        "# tbc.close()"
      ],
      "execution_count": 0,
      "outputs": []
    },
    {
      "cell_type": "code",
      "metadata": {
        "id": "6V4GuVNcUpzz",
        "colab_type": "code",
        "colab": {}
      },
      "source": [
        "# !pip install -q tf-nightly-2.0-preview\n",
        "# # Load the TensorBoard notebook extension\n",
        "# %load_ext tensorboard"
      ],
      "execution_count": 0,
      "outputs": []
    },
    {
      "cell_type": "code",
      "metadata": {
        "id": "QOsRXlNSUsom",
        "colab_type": "code",
        "colab": {}
      },
      "source": [
        "# import tensorflow as tf\n",
        "# import datetime, os"
      ],
      "execution_count": 0,
      "outputs": []
    }
  ]
}